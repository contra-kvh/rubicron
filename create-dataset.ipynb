{
 "cells": [
  {
   "cell_type": "code",
   "execution_count": null,
   "metadata": {},
   "outputs": [],
   "source": [
    "import chess\n",
    "import chess.engine\n",
    "import chess.pgn\n",
    "import glob\n",
    "import csv\n",
    "from time import time\n",
    "import numpy as np\n",
    "import math\n",
    "import pandas as pd\n",
    "\n",
    "# Configure logging\n",
    "pgn_files = glob.glob(\"./database/pgns/*.pgn\")\n",
    "BATCH_SIZE = 100000"
   ]
  },
  {
   "cell_type": "code",
   "execution_count": null,
   "metadata": {},
   "outputs": [],
   "source": [
    "def pgn_to_csv(file, index):\n",
    "    \"\"\"Convert a PGN file to CSV with FEN, move, and normalized value using batched writes.\"\"\"\n",
    "    csv_file = f\"./database/processed_{index}.csv\"\n",
    "    start_time = time()\n",
    "    game_count = 0\n",
    "    batch = []\n",
    "    \n",
    "    print(f\"[{index:3}] Processing {file} to {csv_file}\")\n",
    "\n",
    "    try:\n",
    "        with open(file, 'r') as pgn_file:\n",
    "            while True:\n",
    "                game = chess.pgn.read_game(pgn_file)\n",
    "                if game is None:\n",
    "                    break\n",
    "                game_count += 1\n",
    "                move_count = 0\n",
    "                value_str = game.headers.get(\"Result\")\n",
    "                value = 1.0 if value_str == \"1-0\" else -1.0 if value_str == \"0-1\" else 0.0\n",
    "\n",
    "                board = game.board()\n",
    "                for move in game.mainline_moves():\n",
    "                    batch.append({\n",
    "                        \"fen\": board.fen(),\n",
    "                        \"move\": move.uci(),\n",
    "                        \"value\": value\n",
    "                    })\n",
    "                    board.push(move)\n",
    "                    move_count += 1\n",
    "                    print(f\"[{index:3}] {game_count:5} {move_count:5} {board.fen()} {move.uci()} {value:.2f}\", end='\\r')\n",
    "\n",
    "                    if len(batch) >= BATCH_SIZE:\n",
    "                        print(f\"[{index:3}] Writing batch of {len(batch)} to {csv_file}\")\n",
    "                        pd.DataFrame(batch).to_csv(csv_file, mode='a', index=False, header=not pd.io.common.file_exists(csv_file))\n",
    "                        batch.clear()\n",
    "\n",
    "        if batch:\n",
    "            pd.DataFrame(batch).to_csv(csv_file, mode='a', index=False, header=not pd.io.common.file_exists(csv_file))\n",
    "\n",
    "        elapsed = time() - start_time\n",
    "        print(f\"Processed {file} to {csv_file} in {elapsed:.2f} seconds\")\n",
    "        print(f\"Processed {file} to {csv_file}\")\n",
    "    except Exception as e:\n",
    "        print(f\"Error processing {file}: {str(e)}\")\n",
    "        print(f\"Error processing {file}: {str(e)}\")\n",
    "\n",
    "    return game_count\n"
   ]
  },
  {
   "cell_type": "code",
   "execution_count": null,
   "metadata": {},
   "outputs": [],
   "source": [
    "# Create Process Pool\n",
    "start_time = time()\n",
    "\n",
    "# Submit tasks\n",
    "results = []\n",
    "for i, file in enumerate(pgn_files):\n",
    "    print(f\"[{i+1:3} of {len(pgn_files)}] Scheduling {file} ...\")\n",
    "    result = pgn_to_csv(file, i+1)\n",
    "    results.append(result)\n",
    "\n",
    "print(f\"All files processed in {time.time() - start_time:.2f} seconds.\")\n",
    "print(f'{np.sum([result])} entries processed.')"
   ]
  }
 ],
 "metadata": {
  "kernelspec": {
   "display_name": ".venv",
   "language": "python",
   "name": "python3"
  },
  "language_info": {
   "codemirror_mode": {
    "name": "ipython",
    "version": 3
   },
   "file_extension": ".py",
   "mimetype": "text/x-python",
   "name": "python",
   "nbconvert_exporter": "python",
   "pygments_lexer": "ipython3",
   "version": "3.12.9"
  }
 },
 "nbformat": 4,
 "nbformat_minor": 2
}
