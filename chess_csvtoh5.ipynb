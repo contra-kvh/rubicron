{
  "cells": [
    {
      "cell_type": "code",
      "execution_count": null,
      "metadata": {
        "id": "K5Tm2jLzzT_R"
      },
      "outputs": [],
      "source": [
        "%%capture\n",
        "!pip install chess numpy matplotlib"
      ]
    },
    {
      "cell_type": "code",
      "execution_count": null,
      "metadata": {
        "id": "XAgZZTeIvmU_"
      },
      "outputs": [],
      "source": [
        "import chess\n",
        "from chess import pgn\n",
        "import numpy as np\n",
        "import pandas as pd\n",
        "import csv\n",
        "\n",
        "csv_file = 'lichess_elite_2016-03.pgn.csv'"
      ]
    },
    {
      "cell_type": "code",
      "execution_count": null,
      "metadata": {
        "id": "jyR9PNnky9By"
      },
      "outputs": [],
      "source": [
        "def fen_to_input(fen: str) -> np.ndarray:\n",
        "    board = chess.Board(fen)\n",
        "\n",
        "    # Initialize 19 feature planes\n",
        "    planes = []\n",
        "\n",
        "    # Turn (1 plane)\n",
        "    turn = np.full((8, 8), board.turn, dtype=np.float32)  # True for White, False for Black\n",
        "    planes.append(turn)\n",
        "\n",
        "    # Castling rights (4 planes)\n",
        "    castling = [\n",
        "        np.full((8, 8), board.has_queenside_castling_rights(chess.WHITE), dtype=np.float32),\n",
        "        np.full((8, 8), board.has_kingside_castling_rights(chess.WHITE), dtype=np.float32),\n",
        "        np.full((8, 8), board.has_queenside_castling_rights(chess.BLACK), dtype=np.float32),\n",
        "        np.full((8, 8), board.has_kingside_castling_rights(chess.BLACK), dtype=np.float32)\n",
        "    ]\n",
        "    planes.extend(castling)\n",
        "\n",
        "    # Fifty-move counter (1 plane)\n",
        "    counter = np.ones((8, 8), dtype=np.float32) if board.can_claim_fifty_moves() else np.zeros((8, 8), dtype=np.float32)\n",
        "    planes.append(counter)\n",
        "\n",
        "    # Piece positions (12 planes: 6 piece types × 2 colors)\n",
        "    for color in chess.COLORS:\n",
        "        for piece in chess.PIECE_TYPES:\n",
        "            array = np.zeros((8, 8), dtype=np.float32)\n",
        "            for index in board.pieces(piece, color):\n",
        "                array[chess.square_rank(index), chess.square_file(index)] = 1\n",
        "            planes.append(array)\n",
        "\n",
        "    # En passant (1 plane)\n",
        "    en_passant = np.zeros((8, 8), dtype=np.float32)\n",
        "    if board.has_legal_en_passant() and board.ep_square is not None:\n",
        "        en_passant[chess.square_rank(board.ep_square), chess.square_file(board.ep_square)] = 1\n",
        "    planes.append(en_passant)\n",
        "\n",
        "    # Stack planes and reshape to (19, 8, 8)\n",
        "    r = np.stack(planes, axis=0)  # Shape: (19, 8, 8)\n",
        "    del board\n",
        "    return r"
      ]
    },
    {
      "cell_type": "code",
      "execution_count": null,
      "metadata": {
        "id": "rxUkNEdB5RQb"
      },
      "outputs": [],
      "source": [
        "from enum import Enum\n",
        "import chess\n",
        "from chess import PieceType\n",
        "import numpy as np\n",
        "\n",
        "class QueenDirection(Enum):\n",
        "  NORTHWEST = 0\n",
        "  NORTH = 1\n",
        "  NORTHEAST = 2\n",
        "  EAST = 3\n",
        "  SOUTHEAST = 4\n",
        "  SOUTH = 5\n",
        "  SOUTHWEST = 6\n",
        "  WEST = 7\n",
        "\n",
        "class KnightMove(Enum):\n",
        "  NORTH_LEFT = 0  # diff == -15\n",
        "  NORTH_RIGHT = 1  # diff == -17\n",
        "  EAST_UP = 2  # diff == -6\n",
        "  EAST_DOWN = 3  # diff == 10\n",
        "  SOUTH_RIGHT = 4  # diff == 15\n",
        "  SOUTH_LEFT = 5  # diff == 17\n",
        "  WEST_DOWN = 6  # diff == 6\n",
        "  WEST_UP = 7  # diff == -10\n",
        "\n",
        "class UnderPromotion(Enum):\n",
        "  KNIGHT = 0\n",
        "  BISHOP = 1\n",
        "  ROOK = 2\n",
        "\n",
        "class Mapping:\n",
        "  \"\"\"\n",
        "  The mapper is a dictionary of moves.\n",
        "\n",
        "  ```\n",
        "  * the index is the type of move\n",
        "  * the value is the plane's index, or an array of plane indices (for distance)\n",
        "  \"\"\"\n",
        "  # knight moves from north_left to west_up (clockwise)\n",
        "  knight_mappings = [-15, -17, -6, 10, 15, 17, 6, -10]\n",
        "\n",
        "  def get_index(self, piece_type: PieceType, direction: Enum, distance: int = 1) -> int:\n",
        "      if piece_type == chess.KNIGHT:\n",
        "          return 56 + KnightMove(direction).value\n",
        "      else:\n",
        "          return QueenDirection(direction).value * 8 + distance\n",
        "\n",
        "  @staticmethod\n",
        "  def get_underpromotion_move(piece_type: PieceType, from_square: int, to_square: int) -> tuple[UnderPromotion, int]:\n",
        "      piece = UnderPromotion(piece_type - 2)\n",
        "      diff = from_square - to_square\n",
        "      direction = 0\n",
        "      if to_square < 8:\n",
        "          # black promotes (1st rank)\n",
        "          direction = diff - 8\n",
        "      elif to_square > 55:\n",
        "          # white promotes (8th rank)\n",
        "          direction = diff + 8\n",
        "      return (piece, direction)\n",
        "\n",
        "  @staticmethod\n",
        "  def get_knight_move(from_square: int, to_square: int) -> KnightMove:\n",
        "      return KnightMove(Mapping.knight_mappings.index(from_square - to_square))\n",
        "\n",
        "  @staticmethod\n",
        "  def get_queenlike_move(from_square: int, to_square: int) -> tuple[QueenDirection, int]:\n",
        "      diff = from_square - to_square\n",
        "      if diff % 8 == 0:\n",
        "          # north and south\n",
        "          if diff > 0:\n",
        "              direction = QueenDirection.SOUTH\n",
        "          else:\n",
        "              direction = QueenDirection.NORTH\n",
        "          distance = int(diff / 8)\n",
        "      elif diff % 9 == 0:\n",
        "          # southwest and northeast\n",
        "          if diff > 0:\n",
        "              direction = QueenDirection.SOUTHWEST\n",
        "          else:\n",
        "              direction = QueenDirection.NORTHEAST\n",
        "          distance = np.abs(int(diff / 8))\n",
        "      elif from_square // 8 == to_square // 8:\n",
        "          # east and west\n",
        "          if diff > 0:\n",
        "              direction = QueenDirection.WEST\n",
        "          else:\n",
        "              direction = QueenDirection.EAST\n",
        "          distance = np.abs(diff)\n",
        "      elif diff % 7 == 0:\n",
        "          if diff > 0:\n",
        "              direction = QueenDirection.SOUTHEAST\n",
        "          else:\n",
        "              direction = QueenDirection.NORTHWEST\n",
        "          distance = np.abs(int(diff / 8)) + 1\n",
        "      else:\n",
        "          raise Exception(\"Invalid queen-like move\")\n",
        "      return (direction, distance)\n",
        "\n",
        "  mapper = {\n",
        "      # queens\n",
        "      QueenDirection.NORTHWEST: [0, 1, 2, 3, 4, 5, 6],\n",
        "      QueenDirection.NORTH: [7, 8, 9, 10, 11, 12, 13],\n",
        "      QueenDirection.NORTHEAST: [14, 15, 16, 17, 18, 19, 20],\n",
        "      QueenDirection.EAST: [21, 22, 23, 24, 25, 26, 27],\n",
        "      QueenDirection.SOUTHEAST: [28, 29, 30, 31, 32, 33, 34],\n",
        "      QueenDirection.SOUTH: [35, 36, 37, 38, 39, 40, 41],\n",
        "      QueenDirection.SOUTHWEST: [42, 43, 44, 45, 46, 47, 48],\n",
        "      QueenDirection.WEST: [49, 50, 51, 52, 53, 54, 55],\n",
        "      # knights\n",
        "      KnightMove.NORTH_LEFT: 56,\n",
        "      KnightMove.NORTH_RIGHT: 57,\n",
        "      KnightMove.EAST_UP: 58,\n",
        "      KnightMove.EAST_DOWN: 59,\n",
        "      KnightMove.SOUTH_RIGHT: 60,\n",
        "      KnightMove.SOUTH_LEFT: 61,\n",
        "      KnightMove.WEST_DOWN: 62,\n",
        "      KnightMove.WEST_UP: 63,\n",
        "      # underpromotions\n",
        "      UnderPromotion.KNIGHT: [64, 65, 66],\n",
        "      UnderPromotion.BISHOP: [67, 68, 69],\n",
        "      UnderPromotion.ROOK: [70, 71, 72]\n",
        "  }\n",
        "\n",
        "mapper = Mapping()"
      ]
    },
    {
      "cell_type": "code",
      "execution_count": null,
      "metadata": {
        "id": "7UGxorY55gnK"
      },
      "outputs": [],
      "source": [
        "def generate_policy_vector(fen: str, best_move: chess.Move) -> np.ndarray:\n",
        "    policy = np.zeros((73, 8, 8), dtype=np.float32)\n",
        "    board = chess.Board(fen)\n",
        "    legal_moves = list(board.legal_moves)\n",
        "\n",
        "    best_entry = map_to_policy_index(best_move, board)\n",
        "    policy[best_entry[0], best_entry[1], best_entry[2]] = 0.9\n",
        "\n",
        "    other_weight = 0.1 / (len(legal_moves) - 1) if len(legal_moves) > 1 else 0\n",
        "    for move in legal_moves:\n",
        "        if move == best_move:\n",
        "            continue\n",
        "        entry = map_to_policy_index(move, board)\n",
        "        policy[entry[0], entry[1], entry[2]] = other_weight\n",
        "\n",
        "    return policy\n",
        "\n",
        "\n",
        "def map_to_policy_index(move: chess.Move, board: chess.Board) -> tuple[int, int, int]:\n",
        "    from_square = move.from_square\n",
        "    to_square = move.to_square\n",
        "    piece = board.piece_at(from_square)\n",
        "\n",
        "    if move.promotion and move.promotion != chess.QUEEN:\n",
        "        promo_type, direction = mapper.get_underpromotion_move(move.promotion, from_square, to_square)\n",
        "        plane = mapper.mapper[promo_type][1 - direction]\n",
        "    elif piece.piece_type == chess.KNIGHT:\n",
        "        direction = mapper.get_knight_move(from_square, to_square)\n",
        "        plane = mapper.mapper[direction]\n",
        "    else:\n",
        "        direction, distance = mapper.get_queenlike_move(from_square, to_square)\n",
        "        plane = mapper.mapper[direction][abs(distance) - 1]\n",
        "\n",
        "    row = from_square % 8\n",
        "    col = 7 - (from_square // 8)\n",
        "    return (plane, row, col)\n"
      ]
    },
    {
      "cell_type": "code",
      "execution_count": null,
      "metadata": {
        "id": "Tjk-5FH1oTpi"
      },
      "outputs": [],
      "source": [
        "csv_file = 'lichess_elite_2016-03.pgn.csv'\n",
        "H5PATH = 'lichess_elite_2016-03.pgn.csv.h5'\n",
        "CHUNK_SIZE = 500_000\n",
        "chunks = pd.read_csv(csv_file, chunksize=CHUNK_SIZE)"
      ]
    },
    {
      "cell_type": "code",
      "execution_count": null,
      "metadata": {
        "colab": {
          "base_uri": "https://localhost:8080/",
          "height": 180
        },
        "id": "aIM6veAKxlwi",
        "outputId": "77a1b87d-760b-4037-82e0-f0ecfe986943"
      },
      "outputs": [
        {
          "ename": "NameError",
          "evalue": "name 'df' is not defined",
          "output_type": "error",
          "traceback": [
            "\u001b[0;31m---------------------------------------------------------------------------\u001b[0m",
            "\u001b[0;31mNameError\u001b[0m                                 Traceback (most recent call last)",
            "\u001b[0;32m<ipython-input-9-7ae5072b9144>\u001b[0m in \u001b[0;36m<cell line: 0>\u001b[0;34m()\u001b[0m\n\u001b[1;32m      1\u001b[0m \u001b[0;32mimport\u001b[0m \u001b[0mgc\u001b[0m\u001b[0;34m\u001b[0m\u001b[0;34m\u001b[0m\u001b[0m\n\u001b[1;32m      2\u001b[0m \u001b[0mgc\u001b[0m\u001b[0;34m.\u001b[0m\u001b[0mcollect\u001b[0m\u001b[0;34m(\u001b[0m\u001b[0;34m)\u001b[0m  \u001b[0;31m# Force garbage collection to release memory\u001b[0m\u001b[0;34m\u001b[0m\u001b[0;34m\u001b[0m\u001b[0m\n\u001b[0;32m----> 3\u001b[0;31m \u001b[0;32mdel\u001b[0m \u001b[0mdf\u001b[0m\u001b[0;34m\u001b[0m\u001b[0;34m\u001b[0m\u001b[0m\n\u001b[0m",
            "\u001b[0;31mNameError\u001b[0m: name 'df' is not defined"
          ]
        }
      ],
      "source": [
        "import gc\n",
        "gc.collect()  # Force garbage collection to release memory\n",
        "del df"
      ]
    },
    {
      "cell_type": "code",
      "execution_count": null,
      "metadata": {
        "colab": {
          "base_uri": "https://localhost:8080/"
        },
        "id": "ymYIjm_T48km",
        "outputId": "501b0095-59b9-497d-e7c5-10cb379edf4c"
      },
      "outputs": [
        {
          "name": "stdout",
          "output_type": "stream",
          "text": [
            "input shape: (19, 8, 8)\n",
            "policy output shape: (73, 8, 8)\n",
            "value output shape: () = -1.0\n"
          ]
        }
      ],
      "source": [
        "df = next(chunks)\n",
        "input = fen_to_input(df.iloc[0].fen)\n",
        "output_policy = generate_policy_vector(df.iloc[0].fen, chess.Move.from_uci(df.iloc[0].move))\n",
        "print(f'input shape: {input.shape}')\n",
        "print(f'policy output shape: {output_policy.shape}')\n",
        "print(f'value output shape: {df.iloc[0].value.shape} = {df.iloc[0].value}')"
      ]
    },
    {
      "cell_type": "code",
      "execution_count": null,
      "metadata": {
        "colab": {
          "background_save": true,
          "base_uri": "https://localhost:8080/"
        },
        "id": "pmU5E3bp8f3e",
        "outputId": "2d999f86-e830-4b70-b319-99411881c161"
      },
      "outputs": [
        {
          "name": "stderr",
          "output_type": "stream",
          "text": [
            "100%|██████████| 500000/500000 [06:13<00:00, 1337.59it/s]\n",
            "100%|██████████| 500000/500000 [06:19<00:00, 1317.85it/s]\n",
            "100%|██████████| 500000/500000 [06:10<00:00, 1350.83it/s]\n",
            "100%|██████████| 500000/500000 [06:16<00:00, 1326.54it/s]\n",
            "100%|██████████| 500000/500000 [06:14<00:00, 1336.49it/s]\n",
            "100%|██████████| 411902/411902 [05:05<00:00, 1349.98it/s]\n"
          ]
        }
      ],
      "source": [
        "import h5py\n",
        "import numpy as np\n",
        "from tqdm import tqdm\n",
        "import gc\n",
        "\n",
        "def save_to_hdf5_incrementally(\n",
        "    inputs_batch,\n",
        "    policies_batch,\n",
        "    values_batch,\n",
        "    h5_file,\n",
        "    compression=\"gzip\",\n",
        "    compression_opts=4,\n",
        "):\n",
        "    # Create datasets only once with compression\n",
        "    if \"inputs\" not in h5_file:\n",
        "        h5_file.create_dataset(\n",
        "            \"inputs\",\n",
        "            data=inputs_batch,\n",
        "            maxshape=(None, *inputs_batch.shape[1:]),\n",
        "            chunks=(32, *inputs_batch.shape[1:]),\n",
        "            compression=compression,\n",
        "            compression_opts=compression_opts,\n",
        "        )\n",
        "    else:\n",
        "        h5_file[\"inputs\"].resize(\n",
        "            h5_file[\"inputs\"].shape[0] + inputs_batch.shape[0], axis=0\n",
        "        )\n",
        "        h5_file[\"inputs\"][-inputs_batch.shape[0] :] = inputs_batch\n",
        "\n",
        "    if \"policies\" not in h5_file:\n",
        "        h5_file.create_dataset(\n",
        "            \"policies\",\n",
        "            data=policies_batch,\n",
        "            maxshape=(None, *policies_batch.shape[1:]),\n",
        "            chunks=(32, *policies_batch.shape[1:]),\n",
        "            compression=compression,\n",
        "            compression_opts=compression_opts,\n",
        "        )\n",
        "    else:\n",
        "        h5_file[\"policies\"].resize(\n",
        "            h5_file[\"policies\"].shape[0] + policies_batch.shape[0], axis=0\n",
        "        )\n",
        "        h5_file[\"policies\"][-policies_batch.shape[0] :] = policies_batch\n",
        "\n",
        "    if \"values\" not in h5_file:\n",
        "        h5_file.create_dataset(\n",
        "            \"values\",\n",
        "            data=values_batch,\n",
        "            maxshape=(None, values_batch.shape[1]),\n",
        "            chunks=(32, values_batch.shape[1]),\n",
        "            compression=compression,\n",
        "            compression_opts=compression_opts,\n",
        "        )\n",
        "    else:\n",
        "        h5_file[\"values\"].resize(\n",
        "            h5_file[\"values\"].shape[0] + values_batch.shape[0], axis=0\n",
        "        )\n",
        "        h5_file[\"values\"][-values_batch.shape[0] :] = values_batch\n",
        "\n",
        "\n",
        "# Set batch size to control memory consumption\n",
        "BATCH_SIZE = 50000\n",
        "\n",
        "# Preallocate NumPy arrays for the batch\n",
        "inputs_batch = np.zeros((BATCH_SIZE, 19, 8, 8), dtype=np.float32)\n",
        "policies_batch = np.zeros((BATCH_SIZE, 73, 8, 8), dtype=np.float32)\n",
        "values_batch = np.zeros((BATCH_SIZE, 1), dtype=np.float32)\n",
        "\n",
        "# Open HDF5 file once\n",
        "with h5py.File(H5PATH, \"a\") as h5_file:\n",
        "    batch_idx = 0\n",
        "    # Use itertuples for faster iteration\n",
        "    for df in chunks:\n",
        "      for row in tqdm(df.itertuples(), total=len(df)):\n",
        "          try:\n",
        "              board_input = fen_to_input(row.fen)  # shape: (8, 8, 19)\n",
        "              move = chess.Move.from_uci(row.move)\n",
        "              policy_output = generate_policy_vector(row.fen, move)  # shape: (73, 8, 8)\n",
        "              value_output = float(row.value)  # scalar\n",
        "\n",
        "              # Store in preallocated arrays\n",
        "              inputs_batch[batch_idx] = board_input\n",
        "              policies_batch[batch_idx] = policy_output\n",
        "              values_batch[batch_idx, 0] = value_output\n",
        "              batch_idx += 1\n",
        "\n",
        "              # When batch size is reached, save and reset\n",
        "              if batch_idx >= BATCH_SIZE:\n",
        "                  save_to_hdf5_incrementally(\n",
        "                      inputs_batch[:batch_idx],\n",
        "                      policies_batch[:batch_idx],\n",
        "                      values_batch[:batch_idx],\n",
        "                      h5_file,\n",
        "                  )\n",
        "                  batch_idx = 0\n",
        "                  gc.collect()  # Force garbage collection to release memory\n",
        "\n",
        "          except Exception as e:\n",
        "              print(f\"Skipping row {row.Index} due to error: {e}\")\n",
        "              continue\n",
        "\n",
        "    # Save remaining data if any\n",
        "    if batch_idx > 0:\n",
        "        save_to_hdf5_incrementally(\n",
        "            inputs_batch[:batch_idx],\n",
        "            policies_batch[:batch_idx],\n",
        "            values_batch[:batch_idx],\n",
        "            h5_file,\n",
        "        )\n",
        "        gc.collect()  # Final garbage collection"
      ]
    },
    {
      "cell_type": "code",
      "execution_count": null,
      "metadata": {
        "colab": {
          "base_uri": "https://localhost:8080/"
        },
        "id": "MdouJuMNBCFs",
        "outputId": "e2db1ba5-5799-40cf-aa12-0a4892045a80"
      },
      "outputs": [
        {
          "name": "stdout",
          "output_type": "stream",
          "text": [
            "(1010000, 19, 8, 8)\n",
            "(1010000, 73, 8, 8)\n",
            "(1010000, 1)\n"
          ]
        }
      ],
      "source": [
        "with h5py.File('chess_dataset-1M.h5', 'r') as f:\n",
        "    print(f['inputs'].shape)\n",
        "    print(f['policies'].shape)\n",
        "    print(f['values'].shape)"
      ]
    },
    {
      "cell_type": "code",
      "execution_count": null,
      "metadata": {
        "colab": {
          "base_uri": "https://localhost:8080/",
          "height": 17
        },
        "id": "_hbGNPOQuRQM",
        "outputId": "55778a14-bf70-43b1-e78b-ed61b36c5e23"
      },
      "outputs": [
        {
          "data": {
            "application/javascript": [
              "\n",
              "    async function download(id, filename, size) {\n",
              "      if (!google.colab.kernel.accessAllowed) {\n",
              "        return;\n",
              "      }\n",
              "      const div = document.createElement('div');\n",
              "      const label = document.createElement('label');\n",
              "      label.textContent = `Downloading \"${filename}\": `;\n",
              "      div.appendChild(label);\n",
              "      const progress = document.createElement('progress');\n",
              "      progress.max = size;\n",
              "      div.appendChild(progress);\n",
              "      document.body.appendChild(div);\n",
              "\n",
              "      const buffers = [];\n",
              "      let downloaded = 0;\n",
              "\n",
              "      const channel = await google.colab.kernel.comms.open(id);\n",
              "      // Send a message to notify the kernel that we're ready.\n",
              "      channel.send({})\n",
              "\n",
              "      for await (const message of channel.messages) {\n",
              "        // Send a message to notify the kernel that we're ready.\n",
              "        channel.send({})\n",
              "        if (message.buffers) {\n",
              "          for (const buffer of message.buffers) {\n",
              "            buffers.push(buffer);\n",
              "            downloaded += buffer.byteLength;\n",
              "            progress.value = downloaded;\n",
              "          }\n",
              "        }\n",
              "      }\n",
              "      const blob = new Blob(buffers, {type: 'application/binary'});\n",
              "      const a = document.createElement('a');\n",
              "      a.href = window.URL.createObjectURL(blob);\n",
              "      a.download = filename;\n",
              "      div.appendChild(a);\n",
              "      a.click();\n",
              "      div.remove();\n",
              "    }\n",
              "  "
            ],
            "text/plain": [
              "<IPython.core.display.Javascript object>"
            ]
          },
          "metadata": {},
          "output_type": "display_data"
        },
        {
          "data": {
            "application/javascript": [
              "download(\"download_4b1f8690-0594-444c-be50-f76dc80f59f8\", \"chess_dataset-1M.h5\", 163969845)"
            ],
            "text/plain": [
              "<IPython.core.display.Javascript object>"
            ]
          },
          "metadata": {},
          "output_type": "display_data"
        }
      ],
      "source": [
        "from google.colab import files\n",
        "files.download('chess_dataset-1M.h5')"
      ]
    }
  ],
  "metadata": {
    "colab": {
      "provenance": []
    },
    "kernelspec": {
      "display_name": "Python 3",
      "name": "python3"
    },
    "language_info": {
      "name": "python"
    }
  },
  "nbformat": 4,
  "nbformat_minor": 0
}